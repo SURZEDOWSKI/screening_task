{
 "cells": [
  {
   "cell_type": "markdown",
   "metadata": {},
   "source": [
    "I assume that the task is to create not \"Employers\" but \"Employees\", so i'll stick to that :>"
   ]
  },
  {
   "cell_type": "code",
   "execution_count": 454,
   "metadata": {},
   "outputs": [],
   "source": [
    "list_of_employees=[]\n"
   ]
  },
  {
   "cell_type": "code",
   "execution_count": 453,
   "metadata": {},
   "outputs": [],
   "source": [
    "class Employee:\n",
    "    def __init__(self, firstname, lastname, age, job, salary, bonus):\n",
    "        self.firstname=firstname\n",
    "        self.lastname=lastname\n",
    "        self.age=age\n",
    "        self.job=job\n",
    "        self.salary=salary\n",
    "        self.bonus=bonus\n",
    "        self.total_salary=salary+bonus\n",
    "        #list_of_employees[str(len(list_of_employees)+1)]=self.firstname\n",
    "\n",
    "    def applybonus(self, bonus):\n",
    "        self.bonus=bonus\n",
    "        self.total_salary=self.salary+bonus\n",
    "\n",
    "    def emp_info(self):\n",
    "        print(\"firstname: {}, lastname: {}, age: {}, job: {}, salary: {}, bonus: {}, total salary: {}\".format(self.firstname, self.lastname, self.age, self.job, self.salary, self.bonus, self.total_salary))\n",
    "\n",
    "    def export_emp_info_txt(self):\n",
    "        with open('emp_info.txt','w') as f:\n",
    "            f.write(\"firstname: {}, lastname: {}, age: {}, job: {}, salary: {}, bonus: {}, total salary: {}\".format(self.firstname, self.lastname, self.age, self.job, self.salary, self.bonus, self.total_salary))\n"
   ]
  },
  {
   "cell_type": "code",
   "execution_count": 393,
   "metadata": {},
   "outputs": [
    {
     "data": {
      "text/plain": [
       "'print(Piotr.firstname, Piotr.total_salary)\\nPiotr.applybonus(2000)\\nprint(Piotr.firstname, Piotr.total_salary)'"
      ]
     },
     "execution_count": 393,
     "metadata": {},
     "output_type": "execute_result"
    }
   ],
   "source": [
    "#\"Piotr\", \"Adamczyk\", \"25\", \"programmer\", 5000, 1000\n",
    "\"\"\"print(Piotr.firstname, Piotr.total_salary)\n",
    "Piotr.applybonus(2000)\n",
    "print(Piotr.firstname, Piotr.total_salary)\"\"\""
   ]
  },
  {
   "cell_type": "code",
   "execution_count": 455,
   "metadata": {},
   "outputs": [
    {
     "data": {
      "text/plain": [
       "[]"
      ]
     },
     "execution_count": 455,
     "metadata": {},
     "output_type": "execute_result"
    }
   ],
   "source": [
    "list_of_employees"
   ]
  },
  {
   "cell_type": "code",
   "execution_count": 456,
   "metadata": {},
   "outputs": [],
   "source": [
    "def emp_create(firstname, lastname, age, job, salary, bonus):\n",
    "\n",
    "        list_of_employees.append(Employee(firstname, lastname, age, job, salary, bonus))\n",
    "        list_of_employees[len(list_of_employees)-1].emp_info()"
   ]
  },
  {
   "cell_type": "code",
   "execution_count": 396,
   "metadata": {},
   "outputs": [],
   "source": [
    "def emp_create_from_input():\n",
    "    \n",
    "    firstname=input(\"firstname: \")\n",
    "    lastname=input(\"lastname: \")\n",
    "    age=int(input(\"age: \"))\n",
    "    job=input(\"job: \")\n",
    "    salary=int(input(\"salary: \"))\n",
    "    bonus=int(input(\"bonus: \"))\n",
    "\n",
    "    emp_create(firstname, lastname, age, job, salary, bonus)\n",
    "    \"\"\"\n",
    "    try:\n",
    "        \n",
    "    except:\n",
    "        print(\"Employee has not been created!\")\n",
    "    else:\n",
    "        print(\"Employee has been created!\")\"\"\"\n",
    "    "
   ]
  },
  {
   "cell_type": "code",
   "execution_count": 397,
   "metadata": {},
   "outputs": [
    {
     "ename": "KeyboardInterrupt",
     "evalue": "Interrupted by user",
     "output_type": "error",
     "traceback": [
      "\u001b[1;31m---------------------------------------------------------------------------\u001b[0m",
      "\u001b[1;31mKeyboardInterrupt\u001b[0m                         Traceback (most recent call last)",
      "\u001b[1;32mc:\\Users\\uzi16\\Desktop\\python\\cap_screening\\task.ipynb Komórka 8\u001b[0m in \u001b[0;36m<module>\u001b[1;34m\u001b[0m\n\u001b[1;32m----> <a href='vscode-notebook-cell:/c%3A/Users/uzi16/Desktop/python/cap_screening/task.ipynb#ch0000009?line=0'>1</a>\u001b[0m emp_create_from_input()\n",
      "\u001b[1;32mc:\\Users\\uzi16\\Desktop\\python\\cap_screening\\task.ipynb Komórka 8\u001b[0m in \u001b[0;36memp_create_from_input\u001b[1;34m()\u001b[0m\n\u001b[0;32m      <a href='vscode-notebook-cell:/c%3A/Users/uzi16/Desktop/python/cap_screening/task.ipynb#ch0000009?line=0'>1</a>\u001b[0m \u001b[39mdef\u001b[39;00m \u001b[39memp_create_from_input\u001b[39m():\n\u001b[1;32m----> <a href='vscode-notebook-cell:/c%3A/Users/uzi16/Desktop/python/cap_screening/task.ipynb#ch0000009?line=2'>3</a>\u001b[0m     firstname\u001b[39m=\u001b[39m\u001b[39minput\u001b[39;49m(\u001b[39m\"\u001b[39;49m\u001b[39mfirstname: \u001b[39;49m\u001b[39m\"\u001b[39;49m)\n\u001b[0;32m      <a href='vscode-notebook-cell:/c%3A/Users/uzi16/Desktop/python/cap_screening/task.ipynb#ch0000009?line=3'>4</a>\u001b[0m     lastname\u001b[39m=\u001b[39m\u001b[39minput\u001b[39m(\u001b[39m\"\u001b[39m\u001b[39mlastname: \u001b[39m\u001b[39m\"\u001b[39m)\n\u001b[0;32m      <a href='vscode-notebook-cell:/c%3A/Users/uzi16/Desktop/python/cap_screening/task.ipynb#ch0000009?line=4'>5</a>\u001b[0m     age\u001b[39m=\u001b[39m\u001b[39mint\u001b[39m(\u001b[39minput\u001b[39m(\u001b[39m\"\u001b[39m\u001b[39mage: \u001b[39m\u001b[39m\"\u001b[39m))\n",
      "File \u001b[1;32m~\\AppData\\Roaming\\Python\\Python310\\site-packages\\ipykernel\\kernelbase.py:1044\u001b[0m, in \u001b[0;36mKernel.raw_input\u001b[1;34m(self, prompt)\u001b[0m\n\u001b[0;32m   1040\u001b[0m \u001b[39mif\u001b[39;00m \u001b[39mnot\u001b[39;00m \u001b[39mself\u001b[39m\u001b[39m.\u001b[39m_allow_stdin:\n\u001b[0;32m   1041\u001b[0m     \u001b[39mraise\u001b[39;00m StdinNotImplementedError(\n\u001b[0;32m   1042\u001b[0m         \u001b[39m\"\u001b[39m\u001b[39mraw_input was called, but this frontend does not support input requests.\u001b[39m\u001b[39m\"\u001b[39m\n\u001b[0;32m   1043\u001b[0m     )\n\u001b[1;32m-> 1044\u001b[0m \u001b[39mreturn\u001b[39;00m \u001b[39mself\u001b[39;49m\u001b[39m.\u001b[39;49m_input_request(\n\u001b[0;32m   1045\u001b[0m     \u001b[39mstr\u001b[39;49m(prompt),\n\u001b[0;32m   1046\u001b[0m     \u001b[39mself\u001b[39;49m\u001b[39m.\u001b[39;49m_parent_ident[\u001b[39m\"\u001b[39;49m\u001b[39mshell\u001b[39;49m\u001b[39m\"\u001b[39;49m],\n\u001b[0;32m   1047\u001b[0m     \u001b[39mself\u001b[39;49m\u001b[39m.\u001b[39;49mget_parent(\u001b[39m\"\u001b[39;49m\u001b[39mshell\u001b[39;49m\u001b[39m\"\u001b[39;49m),\n\u001b[0;32m   1048\u001b[0m     password\u001b[39m=\u001b[39;49m\u001b[39mFalse\u001b[39;49;00m,\n\u001b[0;32m   1049\u001b[0m )\n",
      "File \u001b[1;32m~\\AppData\\Roaming\\Python\\Python310\\site-packages\\ipykernel\\kernelbase.py:1089\u001b[0m, in \u001b[0;36mKernel._input_request\u001b[1;34m(self, prompt, ident, parent, password)\u001b[0m\n\u001b[0;32m   1086\u001b[0m             \u001b[39mbreak\u001b[39;00m\n\u001b[0;32m   1087\u001b[0m \u001b[39mexcept\u001b[39;00m \u001b[39mKeyboardInterrupt\u001b[39;00m:\n\u001b[0;32m   1088\u001b[0m     \u001b[39m# re-raise KeyboardInterrupt, to truncate traceback\u001b[39;00m\n\u001b[1;32m-> 1089\u001b[0m     \u001b[39mraise\u001b[39;00m \u001b[39mKeyboardInterrupt\u001b[39;00m(\u001b[39m\"\u001b[39m\u001b[39mInterrupted by user\u001b[39m\u001b[39m\"\u001b[39m) \u001b[39mfrom\u001b[39;00m \u001b[39mNone\u001b[39m\n\u001b[0;32m   1090\u001b[0m \u001b[39mexcept\u001b[39;00m \u001b[39mException\u001b[39;00m:\n\u001b[0;32m   1091\u001b[0m     \u001b[39mself\u001b[39m\u001b[39m.\u001b[39mlog\u001b[39m.\u001b[39mwarning(\u001b[39m\"\u001b[39m\u001b[39mInvalid Message:\u001b[39m\u001b[39m\"\u001b[39m, exc_info\u001b[39m=\u001b[39m\u001b[39mTrue\u001b[39;00m)\n",
      "\u001b[1;31mKeyboardInterrupt\u001b[0m: Interrupted by user"
     ]
    }
   ],
   "source": [
    "emp_create_from_input()"
   ]
  },
  {
   "cell_type": "code",
   "execution_count": 457,
   "metadata": {},
   "outputs": [
    {
     "name": "stdout",
     "output_type": "stream",
     "text": [
      "firstname: Piotr, lastname: Adamczyk, age: 25, job: programmer, salary: 5000, bonus: 1000, total salary: 6000\n",
      "firstname: Paweł, lastname: Duda, age: 26, job: support, salary: 3000, bonus: 200, total salary: 3200\n"
     ]
    }
   ],
   "source": [
    "emp_create(\"Piotr\", \"Adamczyk\", \"25\", \"programmer\", 5000, 1000)\n",
    "emp_create(\"Paweł\", \"Duda\", \"26\", \"support\", 3000, 200)"
   ]
  },
  {
   "cell_type": "code",
   "execution_count": 458,
   "metadata": {},
   "outputs": [
    {
     "data": {
      "text/plain": [
       "[<__main__.Employee at 0x1c2d0c74f70>, <__main__.Employee at 0x1c2d0c73ee0>]"
      ]
     },
     "execution_count": 458,
     "metadata": {},
     "output_type": "execute_result"
    }
   ],
   "source": [
    "list_of_employees"
   ]
  },
  {
   "cell_type": "code",
   "execution_count": 459,
   "metadata": {},
   "outputs": [],
   "source": [
    "def all_emp_info():\n",
    "    ID = 0\n",
    "    for i in list_of_employees:\n",
    "        print(\"ID: \"+str(ID))\n",
    "        print(list_of_employees[ID].emp_info())\n",
    "        ID+=1\n",
    "        "
   ]
  },
  {
   "cell_type": "code",
   "execution_count": 460,
   "metadata": {},
   "outputs": [
    {
     "name": "stdout",
     "output_type": "stream",
     "text": [
      "ID: 0\n",
      "firstname: Piotr, lastname: Adamczyk, age: 25, job: programmer, salary: 5000, bonus: 1000, total salary: 6000\n",
      "None\n",
      "ID: 1\n",
      "firstname: Paweł, lastname: Duda, age: 26, job: support, salary: 3000, bonus: 200, total salary: 3200\n",
      "None\n"
     ]
    }
   ],
   "source": [
    "all_emp_info()"
   ]
  },
  {
   "cell_type": "code",
   "execution_count": null,
   "metadata": {},
   "outputs": [],
   "source": [
    "def emp_apply_bonus(ID):\n",
    "    list_of_employees[ID].applybonus(9999)\n",
    "    print(list_of_employees[ID].firstname, list_of_employees[ID].bonus, list_of_employees[ID].total_salary)\n"
   ]
  },
  {
   "cell_type": "code",
   "execution_count": null,
   "metadata": {},
   "outputs": [
    {
     "name": "stdout",
     "output_type": "stream",
     "text": [
      "Piotr 9999 14999\n"
     ]
    }
   ],
   "source": [
    "emp_apply_bonus(0)"
   ]
  },
  {
   "cell_type": "code",
   "execution_count": null,
   "metadata": {},
   "outputs": [],
   "source": [
    "def emp_remove(ID):\n",
    "    list_of_employees.pop(ID)\n",
    "    all_emp_info()\n",
    "    print(\"ID's have been updated!!!\")\n",
    "    "
   ]
  },
  {
   "cell_type": "code",
   "execution_count": null,
   "metadata": {},
   "outputs": [
    {
     "name": "stdout",
     "output_type": "stream",
     "text": [
      "ID: 0\n",
      "firstname: Piotr, lastname: Adamczyk, age: 25, job: programmer, salary: 5000, bonus: 9999, total salary: 14999\n",
      "None\n",
      "ID: 1\n",
      "firstname: Piotr, lastname: Adamczyk, age: 25, job: programmer, salary: 5000, bonus: 1000, total salary: 6000\n",
      "None\n"
     ]
    }
   ],
   "source": [
    "emp_remove(2)"
   ]
  },
  {
   "cell_type": "code",
   "execution_count": null,
   "metadata": {},
   "outputs": [
    {
     "data": {
      "text/plain": [
       "'Piotr'"
      ]
     },
     "execution_count": 259,
     "metadata": {},
     "output_type": "execute_result"
    }
   ],
   "source": [
    "list_of_employees[1].firstname"
   ]
  },
  {
   "cell_type": "code",
   "execution_count": null,
   "metadata": {},
   "outputs": [
    {
     "name": "stdout",
     "output_type": "stream",
     "text": [
      "firstname: Piotr, lastname: Adamczyk, age: 25, job: programmer, salary: 5000, bonus: 9999, total salary: 14999\n"
     ]
    }
   ],
   "source": [
    "list_of_employees[0].emp_info()"
   ]
  },
  {
   "cell_type": "code",
   "execution_count": null,
   "metadata": {},
   "outputs": [],
   "source": [
    "def export_emp_info_txt(ID):\n",
    "    list_of_employees[ID].export_emp_info_txt()"
   ]
  },
  {
   "cell_type": "code",
   "execution_count": 461,
   "metadata": {},
   "outputs": [],
   "source": [
    "list_of_employees[0].export_emp_info_txt()"
   ]
  },
  {
   "cell_type": "code",
   "execution_count": 437,
   "metadata": {},
   "outputs": [],
   "source": [
    "list_of_departaments=[]"
   ]
  },
  {
   "cell_type": "code",
   "execution_count": 436,
   "metadata": {},
   "outputs": [],
   "source": [
    "class Departament:\n",
    "    def __init__(self, name, *users):\n",
    "        self.name=name\n",
    "        self.users=users\n",
    "\n",
    "    def disp_emp(self):\n",
    "        for i in range(len(self.users)):\n",
    "            print(self.users[i].firstname, self.users[i].lastname, self.users[i].job)\n",
    "\n",
    "    def disp_dep(self): #maybe im wrong but it doesnt make sense to me why sould anyone have method inside one Departament to display all Departaments\n",
    "        print(list_of_departaments)\n",
    "\n",
    "    def add_usr(self, *user):\n",
    "        self.users+=user\n",
    "        #print(\"Employees in {}: {}\".format(self.name, self.users))\n",
    "\n",
    "    def dep_info(self):\n",
    "        print(\"name: {}\".format(self.name))\n",
    "        print(\"Employees:\")\n",
    "        self.disp_emp()\n",
    "\n",
    "    def applybonus(self, bonus):\n",
    "        for i in range(len(self.users)):\n",
    "            self.users[i].bonus=bonus\n",
    "            print(self.users[i].firstname, self.users[i].lastname, self.users[i].bonus)\n",
    "\n",
    "    def search_emp(self, name):\n",
    "        for i in range(len(self.users)):\n",
    "            if self.users[i].firstname == name or self.users[i].lastname == name:\n",
    "                print(\"Found employee: \", self.users[i].firstname, self.users[i].lastname, self.users[i].job)"
   ]
  },
  {
   "cell_type": "code",
   "execution_count": 438,
   "metadata": {},
   "outputs": [],
   "source": [
    "def dep_create(name, *users):\n",
    "\n",
    "        list_of_departaments.append(Departament(name, *users))\n",
    "        list_of_departaments[len(list_of_departaments)-1].disp_emp()\n",
    "    "
   ]
  },
  {
   "cell_type": "code",
   "execution_count": 439,
   "metadata": {},
   "outputs": [
    {
     "name": "stdout",
     "output_type": "stream",
     "text": [
      "Piotr Adamczyk programmer\n"
     ]
    }
   ],
   "source": [
    "dep_create(\"IT\", list_of_employees[0])"
   ]
  },
  {
   "cell_type": "code",
   "execution_count": null,
   "metadata": {},
   "outputs": [],
   "source": [
    "def dep_create_from_input():\n",
    "    \n",
    "    emp_id_list=[]\n",
    "\n",
    "    name=input(\"name: \")\n",
    "    usr_count = int(input(\"How many users do you want to add?: \"))\n",
    "    for i in range(usr_count):\n",
    "        emp_id=input(\"employee's ID: \")\n",
    "        emp_id_list.append(emp_id)\n",
    "\n",
    "    list_of_departaments.append(Departament(name))\n",
    "    for i in range(len(emp_id_list)):\n",
    "        list_of_departaments[len(list_of_departaments)-1].add_usr(list_of_employees[i])\n",
    "    "
   ]
  },
  {
   "cell_type": "code",
   "execution_count": null,
   "metadata": {},
   "outputs": [],
   "source": [
    "dep_create_from_input()"
   ]
  },
  {
   "cell_type": "code",
   "execution_count": 440,
   "metadata": {},
   "outputs": [],
   "source": [
    "list_of_departaments[0].add_usr(list_of_employees[1])"
   ]
  },
  {
   "cell_type": "code",
   "execution_count": 441,
   "metadata": {},
   "outputs": [
    {
     "name": "stdout",
     "output_type": "stream",
     "text": [
      "Piotr Adamczyk programmer\n",
      "Paweł Duda support\n"
     ]
    }
   ],
   "source": [
    "list_of_departaments[0].disp_emp()"
   ]
  },
  {
   "cell_type": "code",
   "execution_count": null,
   "metadata": {},
   "outputs": [],
   "source": [
    "def all_dep_info():\n",
    "    ID = 0\n",
    "    for i in list_of_departaments:\n",
    "        print(\"ID: \"+str(ID))\n",
    "        print(list_of_departaments[ID].dep_info())\n",
    "        ID+=1"
   ]
  },
  {
   "cell_type": "code",
   "execution_count": 442,
   "metadata": {},
   "outputs": [
    {
     "name": "stdout",
     "output_type": "stream",
     "text": [
      "ID: 0\n",
      "name: IT\n",
      "Employees:\n",
      "Piotr Adamczyk programmer\n",
      "Paweł Duda support\n",
      "None\n"
     ]
    }
   ],
   "source": [
    "all_dep_info()"
   ]
  },
  {
   "cell_type": "code",
   "execution_count": 399,
   "metadata": {},
   "outputs": [],
   "source": [
    "def dep_remove(ID):\n",
    "    list_of_departaments.pop(ID)\n",
    "    all_dep_info()\n",
    "    print(\"ID's have been updated!!!\")"
   ]
  },
  {
   "cell_type": "code",
   "execution_count": 398,
   "metadata": {},
   "outputs": [
    {
     "name": "stdout",
     "output_type": "stream",
     "text": [
      "ID: 0\n",
      "name: HR\n",
      "Piotr Adamczyk programmer\n",
      "None\n"
     ]
    }
   ],
   "source": [
    "dep_remove(0)"
   ]
  },
  {
   "cell_type": "code",
   "execution_count": 434,
   "metadata": {},
   "outputs": [],
   "source": [
    "def dep_apply_bonus(ID):\n",
    "    list_of_departaments[ID].applybonus(int(input(\"Bonus amount: \")))\n",
    "    "
   ]
  },
  {
   "cell_type": "code",
   "execution_count": 435,
   "metadata": {},
   "outputs": [
    {
     "name": "stdout",
     "output_type": "stream",
     "text": [
      "Piotr Adamczyk 1234\n",
      "Paweł Duda 1234\n"
     ]
    }
   ],
   "source": [
    "dep_apply_bonus(0)"
   ]
  },
  {
   "cell_type": "code",
   "execution_count": 443,
   "metadata": {},
   "outputs": [],
   "source": [
    "def search_emp_in_dep(dep_ID):\n",
    "    name = input(\"Firstname or lastname os searched employee: \")\n",
    "    list_of_departaments[dep_ID].search_emp(name)"
   ]
  },
  {
   "cell_type": "code",
   "execution_count": 444,
   "metadata": {},
   "outputs": [
    {
     "name": "stdout",
     "output_type": "stream",
     "text": [
      "Found employee:  Piotr Adamczyk programmer\n"
     ]
    }
   ],
   "source": [
    "search_emp_in_dep(0)"
   ]
  },
  {
   "cell_type": "code",
   "execution_count": 445,
   "metadata": {},
   "outputs": [],
   "source": [
    "list_of_departaments[0].add_usr(list_of_employees[0])"
   ]
  },
  {
   "cell_type": "code",
   "execution_count": 446,
   "metadata": {},
   "outputs": [
    {
     "name": "stdout",
     "output_type": "stream",
     "text": [
      "Found employee:  Piotr Adamczyk programmer\n",
      "Found employee:  Piotr Adamczyk programmer\n"
     ]
    }
   ],
   "source": [
    "search_emp_in_dep(0)"
   ]
  },
  {
   "cell_type": "code",
   "execution_count": null,
   "metadata": {},
   "outputs": [],
   "source": []
  }
 ],
 "metadata": {
  "kernelspec": {
   "display_name": "Python 3.10.2 64-bit",
   "language": "python",
   "name": "python3"
  },
  "language_info": {
   "codemirror_mode": {
    "name": "ipython",
    "version": 3
   },
   "file_extension": ".py",
   "mimetype": "text/x-python",
   "name": "python",
   "nbconvert_exporter": "python",
   "pygments_lexer": "ipython3",
   "version": "3.10.2"
  },
  "orig_nbformat": 4,
  "vscode": {
   "interpreter": {
    "hash": "a8021677622913358f2153947171a02f4e569116433047e02a7e95fc002d0f77"
   }
  }
 },
 "nbformat": 4,
 "nbformat_minor": 2
}
